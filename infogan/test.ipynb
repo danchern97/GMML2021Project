{
 "metadata": {
  "language_info": {
   "codemirror_mode": {
    "name": "ipython",
    "version": 3
   },
   "file_extension": ".py",
   "mimetype": "text/x-python",
   "name": "python",
   "nbconvert_exporter": "python",
   "pygments_lexer": "ipython3",
   "version": "3.8.8"
  },
  "orig_nbformat": 2,
  "kernelspec": {
   "name": "python388jvsc74a57bd0734859e131c5931e5782173d35a9b599db1993769e95576bb306cd65347f497d",
   "display_name": "Python 3.8.8 64-bit ('main': conda)"
  }
 },
 "nbformat": 4,
 "nbformat_minor": 2,
 "cells": [
  {
   "cell_type": "code",
   "execution_count": 1,
   "metadata": {},
   "outputs": [],
   "source": [
    "import torch\n",
    "import torch.nn"
   ]
  },
  {
   "cell_type": "code",
   "execution_count": 2,
   "metadata": {},
   "outputs": [],
   "source": [
    "from model import Generator, InfoDiscriminator"
   ]
  },
  {
   "cell_type": "code",
   "execution_count": 5,
   "metadata": {},
   "outputs": [],
   "source": [
    "dataset = 'celeba'\n",
    "img_size_bc = (11, 11) if dataset == 'mnist' else (41, 51)\n",
    "channels = 1 if dataset == 'mnist' else 3\n",
    "parametric_features = 3\n",
    "noise_features = 5"
   ]
  },
  {
   "cell_type": "code",
   "execution_count": 6,
   "metadata": {},
   "outputs": [],
   "source": [
    "gen = Generator(noise_features, parametric_features, img_size_bc, channels, dataset)\n",
    "dis = InfoDiscriminator(parametric_features, img_size_bc, channels, dataset)"
   ]
  },
  {
   "cell_type": "code",
   "execution_count": 7,
   "metadata": {},
   "outputs": [
    {
     "output_type": "execute_result",
     "data": {
      "text/plain": [
       "tensor([[0.9985, 0.5096, 0.8375, 0.6382, 0.7499, 0.5331, 0.2489, 0.2103],\n",
       "        [0.2347, 0.8131, 0.5782, 0.8086, 0.0353, 0.1629, 0.3477, 0.5652]])"
      ]
     },
     "metadata": {},
     "execution_count": 7
    }
   ],
   "source": [
    "x = torch.rand(2, 8)\n",
    "x"
   ]
  },
  {
   "cell_type": "code",
   "execution_count": 8,
   "metadata": {},
   "outputs": [
    {
     "output_type": "execute_result",
     "data": {
      "text/plain": [
       "torch.Size([2, 3, 178, 218])"
      ]
     },
     "metadata": {},
     "execution_count": 8
    }
   ],
   "source": [
    "res = gen(x)\n",
    "res.shape"
   ]
  },
  {
   "cell_type": "code",
   "execution_count": 9,
   "metadata": {},
   "outputs": [
    {
     "output_type": "execute_result",
     "data": {
      "text/plain": [
       "(tensor([[-0.0742],\n",
       "         [ 0.3024]], grad_fn=<AddmmBackward>),\n",
       " tensor([[ 0.2337, -0.1606, -0.4467],\n",
       "         [-0.2973, -0.8055, -0.3850]], grad_fn=<AddmmBackward>))"
      ]
     },
     "metadata": {},
     "execution_count": 9
    }
   ],
   "source": [
    "dis(res)"
   ]
  },
  {
   "cell_type": "code",
   "execution_count": null,
   "metadata": {},
   "outputs": [],
   "source": []
  }
 ]
}