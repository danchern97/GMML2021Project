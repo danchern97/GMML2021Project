{
 "metadata": {
  "language_info": {
   "codemirror_mode": {
    "name": "ipython",
    "version": 3
   },
   "file_extension": ".py",
   "mimetype": "text/x-python",
   "name": "python",
   "nbconvert_exporter": "python",
   "pygments_lexer": "ipython3",
   "version": "3.8.8"
  },
  "orig_nbformat": 2,
  "kernelspec": {
   "name": "python388jvsc74a57bd0734859e131c5931e5782173d35a9b599db1993769e95576bb306cd65347f497d",
   "display_name": "Python 3.8.8 64-bit ('main': conda)"
  }
 },
 "nbformat": 4,
 "nbformat_minor": 2,
 "cells": [
  {
   "cell_type": "code",
   "execution_count": 1,
   "metadata": {},
   "outputs": [],
   "source": [
    "import torch\n",
    "import torch.nn\n",
    "from matplotlib import pyplot as plt"
   ]
  },
  {
   "cell_type": "code",
   "execution_count": 2,
   "metadata": {},
   "outputs": [],
   "source": [
    "from model import Generator, InfoDiscriminator, InfoGAN"
   ]
  },
  {
   "cell_type": "code",
   "execution_count": 3,
   "metadata": {},
   "outputs": [],
   "source": [
    "dataset = 'MNIST'\n",
    "img_size = (11, 11) if dataset == 'MNIST' else (41, 51)\n",
    "channels = 1 if dataset == 'MNIST' else 3\n",
    "parametric_features = 3\n",
    "noise_features = 5"
   ]
  },
  {
   "cell_type": "code",
   "execution_count": 4,
   "metadata": {},
   "outputs": [],
   "source": [
    "infogan = InfoGAN(noise_features=10, \n",
    "                  categorical_features=[10, 3], \n",
    "                  uniform_features=2, \n",
    "                  guassian_features=0, \n",
    "                  inter_img_size=img_size, \n",
    "                  dataset=dataset, \n",
    "                  batch_size=4,\n",
    "                  gen_lr=1e-3, disc_lr=2e-4,\n",
    "                  lambda_=1)"
   ]
  },
  {
   "cell_type": "code",
   "execution_count": 5,
   "metadata": {},
   "outputs": [
    {
     "output_type": "stream",
     "name": "stderr",
     "text": [
      "Loss: -3.3742: 100%|██████████| 15000/15000 [28:30<00:00,  8.77it/s]\n"
     ]
    }
   ],
   "source": [
    "infogan.train_one_epoch()"
   ]
  },
  {
   "cell_type": "code",
   "execution_count": 18,
   "metadata": {},
   "outputs": [
    {
     "output_type": "execute_result",
     "data": {
      "text/plain": [
       "tensor([[ 0.8821,  1.6821,  0.6490, -0.0414,  1.5893, -0.6568, -0.9401,  1.0564,\n",
       "         -0.0583, -0.6358,  0.0000,  1.0000,  0.0000,  0.0000,  0.0000,  0.0000,\n",
       "          0.0000,  0.0000,  0.0000,  0.0000,  0.0000,  1.0000,  0.0000,  0.5500,\n",
       "         -0.2100]])"
      ]
     },
     "metadata": {},
     "execution_count": 18
    }
   ],
   "source": [
    "p1 = torch.zeros(10)\n",
    "p1[1] = 1.0\n",
    "p2 = torch.zeros(3)\n",
    "p2[1] = 1.0\n",
    "x = torch.hstack([torch.randn(10), p1, p2, torch.tensor([0.55, -0.21])]).unsqueeze(0)\n",
    "x"
   ]
  },
  {
   "cell_type": "code",
   "execution_count": 21,
   "metadata": {},
   "outputs": [],
   "source": [
    "infogan.eval()\n",
    "img = infogan.generator(x)"
   ]
  },
  {
   "cell_type": "code",
   "execution_count": 22,
   "metadata": {},
   "outputs": [
    {
     "output_type": "execute_result",
     "data": {
      "text/plain": [
       "torch.Size([1, 1, 28, 28])"
      ]
     },
     "metadata": {},
     "execution_count": 22
    }
   ],
   "source": [
    "img.shape"
   ]
  },
  {
   "cell_type": "code",
   "execution_count": 27,
   "metadata": {},
   "outputs": [
    {
     "output_type": "execute_result",
     "data": {
      "text/plain": [
       "<matplotlib.image.AxesImage at 0x7f87f0eea6a0>"
      ]
     },
     "metadata": {},
     "execution_count": 27
    },
    {
     "output_type": "display_data",
     "data": {
      "text/plain": "<Figure size 432x288 with 1 Axes>",
      "image/svg+xml": "<?xml version=\"1.0\" encoding=\"utf-8\" standalone=\"no\"?>\n<!DOCTYPE svg PUBLIC \"-//W3C//DTD SVG 1.1//EN\"\n  \"http://www.w3.org/Graphics/SVG/1.1/DTD/svg11.dtd\">\n<!-- Created with matplotlib (https://matplotlib.org/) -->\n<svg height=\"248.518125pt\" version=\"1.1\" viewBox=\"0 0 251.565 248.518125\" width=\"251.565pt\" xmlns=\"http://www.w3.org/2000/svg\" xmlns:xlink=\"http://www.w3.org/1999/xlink\">\n <metadata>\n  <rdf:RDF xmlns:cc=\"http://creativecommons.org/ns#\" xmlns:dc=\"http://purl.org/dc/elements/1.1/\" xmlns:rdf=\"http://www.w3.org/1999/02/22-rdf-syntax-ns#\">\n   <cc:Work>\n    <dc:type rdf:resource=\"http://purl.org/dc/dcmitype/StillImage\"/>\n    <dc:date>2021-05-28T19:56:08.768544</dc:date>\n    <dc:format>image/svg+xml</dc:format>\n    <dc:creator>\n     <cc:Agent>\n      <dc:title>Matplotlib v3.3.4, https://matplotlib.org/</dc:title>\n     </cc:Agent>\n    </dc:creator>\n   </cc:Work>\n  </rdf:RDF>\n </metadata>\n <defs>\n  <style type=\"text/css\">*{stroke-linecap:butt;stroke-linejoin:round;}</style>\n </defs>\n <g id=\"figure_1\">\n  <g id=\"patch_1\">\n   <path d=\"M 0 248.518125 \nL 251.565 248.518125 \nL 251.565 0 \nL 0 0 \nz\n\" style=\"fill:none;\"/>\n  </g>\n  <g id=\"axes_1\">\n   <g id=\"patch_2\">\n    <path d=\"M 26.925 224.64 \nL 244.365 224.64 \nL 244.365 7.2 \nL 26.925 7.2 \nz\n\" style=\"fill:#ffffff;\"/>\n   </g>\n   <g clip-path=\"url(#pa2b12d5386)\">\n    <image height=\"218\" id=\"image6c41fa4af7\" transform=\"scale(1 -1)translate(0 -218)\" width=\"218\" x=\"26.925\" xlink:href=\"data:image/png;base64,\niVBORw0KGgoAAAANSUhEUgAAANoAAADaCAYAAADAHVzbAAAPpElEQVR4nO3dzY8r2VnH8VN22S6/u99ud9+5k3uZycwoMxeNBhZRpEiRQpBY8AfAAjYsgsTfgYRYZpUs2CAhsWKBxCaEBckCogQUZZIwTM+dy9BzX7rd3W67/VquKrPI+vweKXf0sPl+tsfHrir7cUn103NO8o9PHu+C8HcXX1PD4d9/+k58cLiVc5NJQ45XI2P+TMw3PjvMUzm86xb6s++M+b0yPnde13M78bkhhJAsjM+25q9r8bltPbdmnHclzvvX8+PnXg30NU+v9e+l2Nfza9Z138/jYyt93t/64Jf6s+UogC8EhQY4oNAABxQa4IBCAxxQaIADCg1wkP7z9LF8wa/+/ityfChSuOa0Kefm/USOZ0bOtj6I/0+0jLmbPf0f07rVx7Y25rev4/PX+6/22ZuBnp/dymH5+a963p1L/dnL4/j89lhnVZuhfu/sP3VONn9NH3vvx/Hf6/gDfV0eZBM5zh0NcEChAQ4oNMABhQY4oNAABxQa4IBCAxykV5uefEGZ6TfY+zjeA1SlOnvojCs5nvf1/0D/XHx2Q392+xPdr2Yde+9ZvHcphBCKTjzT6Vy82mcPnuq+qzLTedLgk/ixFz2dffb/R/ebbfs6v+w+W0fHqpY+7vZYDod8qHO4vTN93dTvbXimP3v2LV0o3NEABxQa4IBCAxxQaIADCg1wQKEBDvTz0GA/Ek3E095sajzGbhotFy/1I/SyHX8cnNzJVfRMjZk+75AYLT7z+LkXXf0IvDXT51019WPw5sVCjhd77fjc66WeO9CPsdvP7uR41YnHB7VCxz3W4//eZ/q8lw86cnx4Fp9/9b6OwVaVjkW4owEOKDTAAYUGOKDQAAcUGuCAQgMcUGiAg/TZQq/htdrX2cXef4ncpaazpvrayOiMXOWV5hrHZmVVO2N+0Y1HlEmpMz4rZ6tt9bkVI511JWV8/uZIZ031tW6TKfv6s6uG2DLKuKZlS98Xth0dC7eudD652W9Fx5pz/Z3d5Pq6cUcDHFBogAMKDXBAoQEOKDTAAYUGOKDQAAfpQaZ7eHYvjaXN2vHsor7RmYuVmyQ7nV2orGxX1++9S/V/jJnDiTwohBCSbfzY84HOexp3+roF47pYvXLq3BpGL9yuofPFbU+fW01cl531t69PKzRmuv9RZZshhJC9mEfH1gcjOTcv9XXhjgY4oNAABxQa4IBCAxxQaIADCg1wQKEBDtKrlV6vbvqG7o3a+2gTHbO28ElXxtqJuQ5O1DqAyZ3OVJJK52TJKn5eIYRQ9eNrI1pq63jf06/H9XUpRsZ8I79UvXi58d7zU51FFW0j7FLDxtTOhZXL6rUVs8uVHN/ux3vKasZPtVnXx8YdDXBAoQEOKDTAAYUGOKDQAAcUGuCAQgMcpA3j+X//3Fh7UbRGVbpFJwRjfcNka6wh2ItnPulS91Xl93R+WMt1Tjb7LT0++jje52ftA1a703uUJT2dF9VnOgPc3I+fu9VD2L7RYdfiRH/pRRafn03078HqMQzBWC/TuG6tF7Po2OL0QM5dFuyPBvy/o9AABxQa4IBCAxxQaIADCg1wkD7q3cgX/Oh3XpfjvfP449x8YLS5bHUbTTbRWwC1pvHH5GVLP2a+fqzbQRJjtbnWRL/g9u1udKx9pSOTurFtU9HW55be6f/P5kQ//lesFpzsUs9Pp/FWFWspu6ptbGdltBdZSwzmJ/3omNX+86h7Lce5owEOKDTAAYUGOKDQAAcUGuCAQgMcUGiAg3RitIPsfWS0dIhYpRQtESGEEIysqmzo+WUrPr4ZGkvdLXRLRT7Un12lerw1E1tKGXOD7vAJ9Y2+cEVfZ4Tq79XKyWq5sZSdsWVUsRdf0i29im+bFEIIibXVVq5ztCrTuWzz5V10bPemvqZ3hX5v7miAAwoNcEChAQ4oNMABhQY4oNAABxQa4EDvwRNCWB3qWkzX8TyqiEcmIYQQdkaZ1622KRGFNec6a8pudI5W+0zPt5Y+2/bjvVVly7imS51VpXMdtCVbI2cbxjOhyujjy490XpRU+rqWzfi5l68bOddUX5dK5KohhJCN9XWbvbsfHdsZSye+2RnLce5ogAMKDXBAoQEOKDTAAYUGOKDQAAcUGuAgtbabacx1LqK0L/TcbU/nHmpLqBBCqES/WmOhsySrn6y+frW+q1oRP/jNSMeXy2P9nXQ/1+dWDvT8UIsfe32lz9vKydKFnr8ZxAOpxsrILq0ewOutHK9EhhdCCP2zaXRscRLP2EIIYbLVoTF3NMABhQY4oNAABxQa4IBCAxxQaICDdLnVj4Kt7WoG5/Elvpq3+nFrfaXHa7cLOZ6Uxnp1wq6pl6NLcuNRcVcv06c0bnXPxXak20VWJ3rps7yr/z/rW/GIfqejh+4LYy08YyW94ZlYUm6no4Mq09+ZNb+mzjuEsHw4iI7Vc+O9jSyKOxrggEIDHFBogAMKDXBAoQEOKDTAAYUGOEg/vxrJF7R7+g3UMlxFV2cyjZulfvOGnr96FM892v99IefujBwsWazkeGlsjdR4eRsdWx8fyrlmC89GZzZZoVtVtp34/2vnUueHFmvbp1CKY7f+9o2cLJ2u5fj2ULeydD+Nt8nM7+s2mU2lf6vc0QAHFBrggEIDHFBogAMKDXBAoQEOKDTAQfL0/ESGE3/8qz+VbzCe9H/jD9/OdS9cstR9W7uu6IV7oXuXOhc6q2rOrO2H5HDoXsTzpCLTn73e1/9/RUfP3xk9YaMn8etmya50P1ppbPuklgi0tsJSS/iFEELN2K4qneuMcLMfz0aX9/Tv6fFffCjHuaMBDig0wAGFBjig0AAHFBrggEIDHFBogIP0byZflS+4/vGJHN/ej2cTjbHu0Ul15BKCsW3Tg3fH0bHPr+/LudYaf+Pf1eP7P9eZz+I4fnK9FzrHsrarWhn/j9mNzpMS0TLWnL7a1kc1Y63Nmnj7u4e6x69zqa9b41r3N5Z9vV5m++kkOrY8vifnLoxglTsa4IBCAxxQaIADCg1wQKEBDig0wAGFBjhIf3LzUL5g+ESHOqN/iq+lV5/qtRGrjs5N6uNbOb7rx9fpe3t+LufmD/Xair1nOhdRfVUhhJCINQjTpV770FrXcfSJ7gmz5jdmIswyetnqa52TbQf6uq3349lq3dh6rTQyvPmXh3K8daMzwuWbYu1GI9ts1nTGxx0NcEChAQ4oNMABhQY4oNAABxQa4CBdbvXj2FI/gQ+JWOIrP41vqxRCCM3xQo5X05n+7E687aE4/1zOTYd6P6r6Sj8KLnvGUnl5/LpUme4P6jzXscjsja4c777cyHHFWrLN0nquv7P6On7s+Ugv6bZLdPbQfmls29TX759dxttsVof6t1xU+jvljgY4oNAABxQa4IBCAxxQaIADCg1wQKEBDtJeU2cuM2NJuMuvxvOFqqlzj3SpQ7ruG7rtoXEXb01IB4/l3PVhW463rnUms6sZ/SSipaMyticqujrv6T7X31l9rVs25LZOor0nhBAKIz+spfq/u2rEx7MLnR/ujPcuM728ofWdVln8ujcXOl+8zfXviTsa4IBCAxxQaIADCg1wQKEBDig0wAGFBjhIr5a6t2k70JlP91k8X1jv67l1o23q7jUd4hWdeG7SP9dZ1PJIv/fRVK99lg90ZtOcxbMsa+ujMrPyR71cXWEs41cr4lmZtVRdfWP0q1n5ohi2crK7R/HlBUMIof+p7m+0crbGeB4d253qa1pWxnZWchTAF4JCAxxQaIADCg1wQKEBDig0wAGFBjhI/+jhT+ULvvPeN+V42YyvrWjlZNO39HhrojOZxQfx/qXa1ug3u9V9VzujZ6x9oXubast4Dtcs9WdXHWOtTSMPquklKWXPWWr0XVUNo0HR6GfbiLUbe9fxdRVDCKFu9HwlpT72mrEtVH5f9FYav4dhS/fScUcDHFBogAMKDXBAoQEOKDTAAYUGOKDQAAfp9y/flS/o/iKek4UQQl3ESdP39PqCow91HlT+/kSOVxfxPc7mj3SmsjvX/zHZRGdZVUPnKv1fxHubyj3dA1if6L6qWkNft81pX8/fxPvZrJxseaKvS/eZzhdVL11+pK/LZqC/s66xf1rZ0T2Kzcv4dV8e6/POSyPblKMAvhAUGuCAQgMcUGiAAwoNcEChAQ7SbxyeyRd8963X5HhtGX8cfP/RlZxbfknX+V+98w9y/K+HfxAde72ro4F/+eH7cnx1oh9zH/5Mt4Ms3zqIjmWXuqWiPIjHFiGEULX0sZXGcnaro/hj7m3bWG4u1+dttfA0xTJ+9ZmOBpJKXxdLfan7h1S8kBir7GWpfm/uaIADCg1wQKEBDig0wAGFBjig0AAHFBrgID1f78sX3PuRzkVW9+K5y9X8WM4tM53JfPs/vi3Hi258/lnxUM5t3um8KBsbeZHRJqO2Rip6uuWittWhTdnQ/4/pSm/rVLbj81cH+r13xl/z4r5uRemfx8+tvKdzsqKj88PUWEKwsjK+F7Po2OL0UM5dFsZ3KkcBfCEoNMABhQY4oNAABxQa4IBCAxxQaICD9PkqvlVNCCEsT43tap7EM5vlUtexylRCCGG9p3OT3vN4D1Ct0O9dX+ql8Hb6tENiZF3FqKXfQFie6rmtG33sm32dZdXX8WOvUiOr0lFV2Iz0d966jR/b7KHOudpX+ppv39LL7PWf6mX8Fm/HM+VtR/8g3ulfyHHuaIADCg1wQKEBDig0wAGFBjig0AAHFBrgID3K4tsLhRDC5Od6vbrNKJ677H+0kXMXxhZAozOde+Qiq7JysGJfZ1XZxVKOV02dNzUv4td19aWhnNsxtj5aneqttLr/q6/b5rAdHTv+iZ67vG989oWxAKLQf6bzwbsHOmc7/Jn+zoqezhe7n06jY4sT3bc5K/R14Y4GOKDQAAcUGuCAQgMcUGiAAwoNcJBWxvphn/2hHq+JJ9FlRz+OTY0l3y6+Hn8MHUIIySY+f3egl1wLU31su6Ze+qw51o/3c/EIPdR0r0nbOPY817HJsB/fGimEEG4u44+ik4Y+r3Cnh9MDfWwPj+Lbaf356/8q537/9j05Xv2J/q3+4MOvyPGkGd+26d7hWM793oN/k+Pc0QAHFBrggEIDHFBogAMKDXBAoQEOKDTAQfpnRz+ULzh7+0iOt+rx1obnM72U3d6bKzk+nuks66Afb+koKv0f8ujLN3L8yURv05OfGMuylfHPf//kuZxrbQH0zkAvbfbZ0tiK6/RpdOzj2T05t1nXGV+a6PHfO/woOtZIdJvMX57+QI7/7fS35fjgA/17ezKP/9aP2/EtnUII4Ze5fm/uaIADCg1wQKEBDig0wAGFBjig0AAHFBrg4P8AuV4kk8XhDWoAAAAASUVORK5CYII=\" y=\"-6.64\"/>\n   </g>\n   <g id=\"matplotlib.axis_1\">\n    <g id=\"xtick_1\">\n     <g id=\"line2d_1\">\n      <defs>\n       <path d=\"M 0 0 \nL 0 3.5 \n\" id=\"mab6aa6d581\" style=\"stroke:#000000;stroke-width:0.8;\"/>\n      </defs>\n      <g>\n       <use style=\"stroke:#000000;stroke-width:0.8;\" x=\"30.807857\" xlink:href=\"#mab6aa6d581\" y=\"224.64\"/>\n      </g>\n     </g>\n     <g id=\"text_1\">\n      <!-- 0 -->\n      <g transform=\"translate(27.626607 239.238437)scale(0.1 -0.1)\">\n       <defs>\n        <path d=\"M 31.78125 66.40625 \nQ 24.171875 66.40625 20.328125 58.90625 \nQ 16.5 51.421875 16.5 36.375 \nQ 16.5 21.390625 20.328125 13.890625 \nQ 24.171875 6.390625 31.78125 6.390625 \nQ 39.453125 6.390625 43.28125 13.890625 \nQ 47.125 21.390625 47.125 36.375 \nQ 47.125 51.421875 43.28125 58.90625 \nQ 39.453125 66.40625 31.78125 66.40625 \nz\nM 31.78125 74.21875 \nQ 44.046875 74.21875 50.515625 64.515625 \nQ 56.984375 54.828125 56.984375 36.375 \nQ 56.984375 17.96875 50.515625 8.265625 \nQ 44.046875 -1.421875 31.78125 -1.421875 \nQ 19.53125 -1.421875 13.0625 8.265625 \nQ 6.59375 17.96875 6.59375 36.375 \nQ 6.59375 54.828125 13.0625 64.515625 \nQ 19.53125 74.21875 31.78125 74.21875 \nz\n\" id=\"DejaVuSans-48\"/>\n       </defs>\n       <use xlink:href=\"#DejaVuSans-48\"/>\n      </g>\n     </g>\n    </g>\n    <g id=\"xtick_2\">\n     <g id=\"line2d_2\">\n      <g>\n       <use style=\"stroke:#000000;stroke-width:0.8;\" x=\"69.636429\" xlink:href=\"#mab6aa6d581\" y=\"224.64\"/>\n      </g>\n     </g>\n     <g id=\"text_2\">\n      <!-- 5 -->\n      <g transform=\"translate(66.455179 239.238437)scale(0.1 -0.1)\">\n       <defs>\n        <path d=\"M 10.796875 72.90625 \nL 49.515625 72.90625 \nL 49.515625 64.59375 \nL 19.828125 64.59375 \nL 19.828125 46.734375 \nQ 21.96875 47.46875 24.109375 47.828125 \nQ 26.265625 48.1875 28.421875 48.1875 \nQ 40.625 48.1875 47.75 41.5 \nQ 54.890625 34.8125 54.890625 23.390625 \nQ 54.890625 11.625 47.5625 5.09375 \nQ 40.234375 -1.421875 26.90625 -1.421875 \nQ 22.3125 -1.421875 17.546875 -0.640625 \nQ 12.796875 0.140625 7.71875 1.703125 \nL 7.71875 11.625 \nQ 12.109375 9.234375 16.796875 8.0625 \nQ 21.484375 6.890625 26.703125 6.890625 \nQ 35.15625 6.890625 40.078125 11.328125 \nQ 45.015625 15.765625 45.015625 23.390625 \nQ 45.015625 31 40.078125 35.4375 \nQ 35.15625 39.890625 26.703125 39.890625 \nQ 22.75 39.890625 18.8125 39.015625 \nQ 14.890625 38.140625 10.796875 36.28125 \nz\n\" id=\"DejaVuSans-53\"/>\n       </defs>\n       <use xlink:href=\"#DejaVuSans-53\"/>\n      </g>\n     </g>\n    </g>\n    <g id=\"xtick_3\">\n     <g id=\"line2d_3\">\n      <g>\n       <use style=\"stroke:#000000;stroke-width:0.8;\" x=\"108.465\" xlink:href=\"#mab6aa6d581\" y=\"224.64\"/>\n      </g>\n     </g>\n     <g id=\"text_3\">\n      <!-- 10 -->\n      <g transform=\"translate(102.1025 239.238437)scale(0.1 -0.1)\">\n       <defs>\n        <path d=\"M 12.40625 8.296875 \nL 28.515625 8.296875 \nL 28.515625 63.921875 \nL 10.984375 60.40625 \nL 10.984375 69.390625 \nL 28.421875 72.90625 \nL 38.28125 72.90625 \nL 38.28125 8.296875 \nL 54.390625 8.296875 \nL 54.390625 0 \nL 12.40625 0 \nz\n\" id=\"DejaVuSans-49\"/>\n       </defs>\n       <use xlink:href=\"#DejaVuSans-49\"/>\n       <use x=\"63.623047\" xlink:href=\"#DejaVuSans-48\"/>\n      </g>\n     </g>\n    </g>\n    <g id=\"xtick_4\">\n     <g id=\"line2d_4\">\n      <g>\n       <use style=\"stroke:#000000;stroke-width:0.8;\" x=\"147.293571\" xlink:href=\"#mab6aa6d581\" y=\"224.64\"/>\n      </g>\n     </g>\n     <g id=\"text_4\">\n      <!-- 15 -->\n      <g transform=\"translate(140.931071 239.238437)scale(0.1 -0.1)\">\n       <use xlink:href=\"#DejaVuSans-49\"/>\n       <use x=\"63.623047\" xlink:href=\"#DejaVuSans-53\"/>\n      </g>\n     </g>\n    </g>\n    <g id=\"xtick_5\">\n     <g id=\"line2d_5\">\n      <g>\n       <use style=\"stroke:#000000;stroke-width:0.8;\" x=\"186.122143\" xlink:href=\"#mab6aa6d581\" y=\"224.64\"/>\n      </g>\n     </g>\n     <g id=\"text_5\">\n      <!-- 20 -->\n      <g transform=\"translate(179.759643 239.238437)scale(0.1 -0.1)\">\n       <defs>\n        <path d=\"M 19.1875 8.296875 \nL 53.609375 8.296875 \nL 53.609375 0 \nL 7.328125 0 \nL 7.328125 8.296875 \nQ 12.9375 14.109375 22.625 23.890625 \nQ 32.328125 33.6875 34.8125 36.53125 \nQ 39.546875 41.84375 41.421875 45.53125 \nQ 43.3125 49.21875 43.3125 52.78125 \nQ 43.3125 58.59375 39.234375 62.25 \nQ 35.15625 65.921875 28.609375 65.921875 \nQ 23.96875 65.921875 18.8125 64.3125 \nQ 13.671875 62.703125 7.8125 59.421875 \nL 7.8125 69.390625 \nQ 13.765625 71.78125 18.9375 73 \nQ 24.125 74.21875 28.421875 74.21875 \nQ 39.75 74.21875 46.484375 68.546875 \nQ 53.21875 62.890625 53.21875 53.421875 \nQ 53.21875 48.921875 51.53125 44.890625 \nQ 49.859375 40.875 45.40625 35.40625 \nQ 44.1875 33.984375 37.640625 27.21875 \nQ 31.109375 20.453125 19.1875 8.296875 \nz\n\" id=\"DejaVuSans-50\"/>\n       </defs>\n       <use xlink:href=\"#DejaVuSans-50\"/>\n       <use x=\"63.623047\" xlink:href=\"#DejaVuSans-48\"/>\n      </g>\n     </g>\n    </g>\n    <g id=\"xtick_6\">\n     <g id=\"line2d_6\">\n      <g>\n       <use style=\"stroke:#000000;stroke-width:0.8;\" x=\"224.950714\" xlink:href=\"#mab6aa6d581\" y=\"224.64\"/>\n      </g>\n     </g>\n     <g id=\"text_6\">\n      <!-- 25 -->\n      <g transform=\"translate(218.588214 239.238437)scale(0.1 -0.1)\">\n       <use xlink:href=\"#DejaVuSans-50\"/>\n       <use x=\"63.623047\" xlink:href=\"#DejaVuSans-53\"/>\n      </g>\n     </g>\n    </g>\n   </g>\n   <g id=\"matplotlib.axis_2\">\n    <g id=\"ytick_1\">\n     <g id=\"line2d_7\">\n      <defs>\n       <path d=\"M 0 0 \nL -3.5 0 \n\" id=\"m34b6e37560\" style=\"stroke:#000000;stroke-width:0.8;\"/>\n      </defs>\n      <g>\n       <use style=\"stroke:#000000;stroke-width:0.8;\" x=\"26.925\" xlink:href=\"#m34b6e37560\" y=\"11.082857\"/>\n      </g>\n     </g>\n     <g id=\"text_7\">\n      <!-- 0 -->\n      <g transform=\"translate(13.5625 14.882076)scale(0.1 -0.1)\">\n       <use xlink:href=\"#DejaVuSans-48\"/>\n      </g>\n     </g>\n    </g>\n    <g id=\"ytick_2\">\n     <g id=\"line2d_8\">\n      <g>\n       <use style=\"stroke:#000000;stroke-width:0.8;\" x=\"26.925\" xlink:href=\"#m34b6e37560\" y=\"49.911429\"/>\n      </g>\n     </g>\n     <g id=\"text_8\">\n      <!-- 5 -->\n      <g transform=\"translate(13.5625 53.710647)scale(0.1 -0.1)\">\n       <use xlink:href=\"#DejaVuSans-53\"/>\n      </g>\n     </g>\n    </g>\n    <g id=\"ytick_3\">\n     <g id=\"line2d_9\">\n      <g>\n       <use style=\"stroke:#000000;stroke-width:0.8;\" x=\"26.925\" xlink:href=\"#m34b6e37560\" y=\"88.74\"/>\n      </g>\n     </g>\n     <g id=\"text_9\">\n      <!-- 10 -->\n      <g transform=\"translate(7.2 92.539219)scale(0.1 -0.1)\">\n       <use xlink:href=\"#DejaVuSans-49\"/>\n       <use x=\"63.623047\" xlink:href=\"#DejaVuSans-48\"/>\n      </g>\n     </g>\n    </g>\n    <g id=\"ytick_4\">\n     <g id=\"line2d_10\">\n      <g>\n       <use style=\"stroke:#000000;stroke-width:0.8;\" x=\"26.925\" xlink:href=\"#m34b6e37560\" y=\"127.568571\"/>\n      </g>\n     </g>\n     <g id=\"text_10\">\n      <!-- 15 -->\n      <g transform=\"translate(7.2 131.36779)scale(0.1 -0.1)\">\n       <use xlink:href=\"#DejaVuSans-49\"/>\n       <use x=\"63.623047\" xlink:href=\"#DejaVuSans-53\"/>\n      </g>\n     </g>\n    </g>\n    <g id=\"ytick_5\">\n     <g id=\"line2d_11\">\n      <g>\n       <use style=\"stroke:#000000;stroke-width:0.8;\" x=\"26.925\" xlink:href=\"#m34b6e37560\" y=\"166.397143\"/>\n      </g>\n     </g>\n     <g id=\"text_11\">\n      <!-- 20 -->\n      <g transform=\"translate(7.2 170.196362)scale(0.1 -0.1)\">\n       <use xlink:href=\"#DejaVuSans-50\"/>\n       <use x=\"63.623047\" xlink:href=\"#DejaVuSans-48\"/>\n      </g>\n     </g>\n    </g>\n    <g id=\"ytick_6\">\n     <g id=\"line2d_12\">\n      <g>\n       <use style=\"stroke:#000000;stroke-width:0.8;\" x=\"26.925\" xlink:href=\"#m34b6e37560\" y=\"205.225714\"/>\n      </g>\n     </g>\n     <g id=\"text_12\">\n      <!-- 25 -->\n      <g transform=\"translate(7.2 209.024933)scale(0.1 -0.1)\">\n       <use xlink:href=\"#DejaVuSans-50\"/>\n       <use x=\"63.623047\" xlink:href=\"#DejaVuSans-53\"/>\n      </g>\n     </g>\n    </g>\n   </g>\n   <g id=\"patch_3\">\n    <path d=\"M 26.925 224.64 \nL 26.925 7.2 \n\" style=\"fill:none;stroke:#000000;stroke-linecap:square;stroke-linejoin:miter;stroke-width:0.8;\"/>\n   </g>\n   <g id=\"patch_4\">\n    <path d=\"M 244.365 224.64 \nL 244.365 7.2 \n\" style=\"fill:none;stroke:#000000;stroke-linecap:square;stroke-linejoin:miter;stroke-width:0.8;\"/>\n   </g>\n   <g id=\"patch_5\">\n    <path d=\"M 26.925 224.64 \nL 244.365 224.64 \n\" style=\"fill:none;stroke:#000000;stroke-linecap:square;stroke-linejoin:miter;stroke-width:0.8;\"/>\n   </g>\n   <g id=\"patch_6\">\n    <path d=\"M 26.925 7.2 \nL 244.365 7.2 \n\" style=\"fill:none;stroke:#000000;stroke-linecap:square;stroke-linejoin:miter;stroke-width:0.8;\"/>\n   </g>\n  </g>\n </g>\n <defs>\n  <clipPath id=\"pa2b12d5386\">\n   <rect height=\"217.44\" width=\"217.44\" x=\"26.925\" y=\"7.2\"/>\n  </clipPath>\n </defs>\n</svg>\n",
      "image/png": "[encoded data removed]"
     },
     "metadata": {
      "needs_background": "light"
     }
    }
   ],
   "source": [
    "plt.imshow(img[0, 0, ...].detach().numpy())"
   ]
  },
  {
   "cell_type": "code",
   "execution_count": null,
   "metadata": {},
   "outputs": [],
   "source": []
  }
 ]
}